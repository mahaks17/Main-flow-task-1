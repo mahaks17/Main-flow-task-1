{
 "cells": [
  {
   "cell_type": "code",
   "execution_count": 3,
   "id": "4bed026f-1e4e-4e6c-9b5a-04a7ce2796cf",
   "metadata": {},
   "outputs": [
    {
     "name": "stdout",
     "output_type": "stream",
     "text": [
      "the updated list: [1, 2, 30, 4, 6]\n"
     ]
    }
   ],
   "source": [
    "#creating a list\n",
    "list1=[1,2,3,4,5]\n",
    "\n",
    "#adding an element to the list\n",
    "list1.append(6)\n",
    "#removing an element from the list\n",
    "list1.remove(5)\n",
    "#updating an element from the list\n",
    "list1[2]=30\n",
    "print(\"the updated list:\",list1)"
   ]
  },
  {
   "cell_type": "code",
   "execution_count": 4,
   "id": "51eab1b2-2b57-43fb-aae7-28297ce4ff2c",
   "metadata": {},
   "outputs": [
    {
     "name": "stdout",
     "output_type": "stream",
     "text": [
      "the updated dictionary: {'name': 'conrad', 'age': 25, 'city': 'boston'}\n"
     ]
    }
   ],
   "source": [
    "#creating a dictionary\n",
    "dict1={'name':'conrad','age':27,'city':'boston'}\n",
    "\n",
    "#adding \n",
    "dict1['favourite color']='blue'\n",
    "#removing\n",
    "del dict1['favourite color']\n",
    "#updating\n",
    "dict1['age']=25\n",
    "print(\"the updated dictionary:\",dict1)"
   ]
  },
  {
   "cell_type": "code",
   "execution_count": 5,
   "id": "0aa267ed-7316-48ef-9942-19e423375810",
   "metadata": {},
   "outputs": [
    {
     "name": "stdout",
     "output_type": "stream",
     "text": [
      "the updated set: {80, 50, 500, 40, 30}\n"
     ]
    }
   ],
   "source": [
    "#creating  a set\n",
    "set1={10,20,30,40,50}\n",
    "\n",
    "#adding \n",
    "set1.add(80)\n",
    "#removing\n",
    "set1.remove(20)\n",
    "#updating \n",
    "set1.discard(10)\n",
    "set1.add(500)\n",
    "print(\"the updated set:\",set1)"
   ]
  },
  {
   "cell_type": "code",
   "execution_count": null,
   "id": "cd5fd485-0391-49d7-8899-6480455a541f",
   "metadata": {},
   "outputs": [],
   "source": []
  }
 ],
 "metadata": {
  "kernelspec": {
   "display_name": "Python 3 (ipykernel)",
   "language": "python",
   "name": "python3"
  },
  "language_info": {
   "codemirror_mode": {
    "name": "ipython",
    "version": 3
   },
   "file_extension": ".py",
   "mimetype": "text/x-python",
   "name": "python",
   "nbconvert_exporter": "python",
   "pygments_lexer": "ipython3",
   "version": "3.11.7"
  }
 },
 "nbformat": 4,
 "nbformat_minor": 5
}
